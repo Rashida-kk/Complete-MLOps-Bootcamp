{
 "cells": [
  {
   "cell_type": "markdown",
   "id": "90f51fb3",
   "metadata": {},
   "source": [
    "🔹 What is a Tuple?\n",
    "A tuple is like a list, but immutable (unchangeable).\n",
    "\n",
    "✅ It allows different data types\n",
    "✅ It is ordered\n",
    "❌ You can’t change it (no append, remove, etc.)\n",
    "\n"
   ]
  },
  {
   "cell_type": "code",
   "execution_count": null,
   "id": "30fda572",
   "metadata": {
    "vscode": {
     "languageId": "plaintext"
    }
   },
   "outputs": [],
   "source": [
    "my_tuple = (1, 2, 3)\n",
    "print(my_tuple)\n"
   ]
  },
  {
   "cell_type": "markdown",
   "id": "9486d7b2",
   "metadata": {},
   "source": [
    "🔹 Why Use Tuples Instead of Lists?\n",
    "Data safety – Use tuples when you don’t want the data to be modified.\n",
    "\n",
    "Faster than lists – Tuples take less memory and are quicker to access.\n",
    "\n",
    "Dictionary keys – Tuples can be used as keys in dictionaries (lists can’t).\n",
    "\n"
   ]
  },
  {
   "cell_type": "code",
   "execution_count": null,
   "id": "04804837",
   "metadata": {
    "vscode": {
     "languageId": "plaintext"
    }
   },
   "outputs": [],
   "source": []
  },
  {
   "cell_type": "code",
   "execution_count": null,
   "id": "3614d9cc",
   "metadata": {
    "vscode": {
     "languageId": "plaintext"
    }
   },
   "outputs": [],
   "source": []
  }
 ],
 "metadata": {
  "language_info": {
   "name": "python"
  }
 },
 "nbformat": 4,
 "nbformat_minor": 5
}
