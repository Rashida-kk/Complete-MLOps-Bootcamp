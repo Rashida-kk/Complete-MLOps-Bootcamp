{
 "cells": [
  {
   "cell_type": "code",
   "execution_count": 2,
   "id": "842d8d2f",
   "metadata": {},
   "outputs": [
    {
     "name": "stdout",
     "output_type": "stream",
     "text": [
      "0\n",
      "1\n",
      "2\n",
      "3\n",
      "4\n"
     ]
    }
   ],
   "source": [
    "count = 0\n",
    "while count<5:\n",
    "    print(count)\n",
    "    count = count+1"
   ]
  },
  {
   "cell_type": "code",
   "execution_count": null,
   "id": "4319da5c",
   "metadata": {},
   "outputs": [],
   "source": [
    "#loop control statement\n",
    "#1.break\n",
    "for i in range(10):\n",
    "    if i == 5:\n",
    "        break\n",
    "    print(i)\n",
    "\n",
    "#2.continue\n",
    "for i in range(10):\n",
    "    if i%2==0:\n",
    "        continue\n",
    "    print(i)\n",
    "\n",
    "#3.pass\n",
    "#the pass statement is null operation; it does nothing\n",
    "for i in range(5):\n",
    "    if i==3:\n",
    "        pass\n",
    "    print(i)"
   ]
  },
  {
   "cell_type": "code",
   "execution_count": null,
   "id": "27d8b490",
   "metadata": {},
   "outputs": [
    {
     "name": "stdout",
     "output_type": "stream",
     "text": [
      "i:0 and j:0\n",
      "i:0 and j:1\n",
      "i:1 and j:0\n",
      "i:1 and j:1\n",
      "i:2 and j:0\n",
      "i:2 and j:1\n"
     ]
    }
   ],
   "source": [
    "#Nested loop\n",
    "#loop inside a loop\n",
    "for i in range(3):\n",
    "    for j in range(2):\n",
    "        print(f\"i:{i} and j:{j}\")"
   ]
  },
  {
   "cell_type": "code",
   "execution_count": null,
   "id": "1ef6b4ac",
   "metadata": {},
   "outputs": [
    {
     "name": "stdout",
     "output_type": "stream",
     "text": [
      "sum of 10 natural numbers: 55\n"
     ]
    }
   ],
   "source": [
    "#calculate the sum of first N natural numbers\n",
    "N = int(input(\"Enter the number: \"))\n",
    "n=N\n",
    "sum = 0\n",
    "count = 1\n",
    "while count<=n:\n",
    "    sum = sum+count\n",
    "    count=count+1\n",
    "print(f\"sum of {N} natural numbers:\", sum)"
   ]
  },
  {
   "cell_type": "code",
   "execution_count": 3,
   "id": "41163895",
   "metadata": {},
   "outputs": [
    {
     "name": "stdout",
     "output_type": "stream",
     "text": [
      "sum of 20 natural numbers: 210\n"
     ]
    }
   ],
   "source": [
    "N = int(input(\"Enter the number: \"))\n",
    "n=N\n",
    "sum = 0\n",
    "count = 1\n",
    "for i in range(n+1):\n",
    "    sum = sum+i\n",
    "print(f\"sum of {N} natural numbers:\", sum)   \n"
   ]
  },
  {
   "cell_type": "code",
   "execution_count": 8,
   "id": "6dcc1c57",
   "metadata": {},
   "outputs": [
    {
     "name": "stdout",
     "output_type": "stream",
     "text": [
      "2\n",
      "3\n",
      "5\n",
      "7\n",
      "11\n",
      "13\n",
      "17\n",
      "19\n",
      "23\n"
     ]
    }
   ],
   "source": [
    "#display the prime number between 1 to N\n",
    "N = int(input(\"Enter the number: \"))\n",
    "for num in range(1, N+1):\n",
    "    if num>1:\n",
    "        for i in range(2, num):\n",
    "            if num%i==0:\n",
    "                break\n",
    "        else:\n",
    "            print(num)"
   ]
  },
  {
   "cell_type": "code",
   "execution_count": 6,
   "id": "169bf631",
   "metadata": {},
   "outputs": [
    {
     "name": "stdout",
     "output_type": "stream",
     "text": [
      "2,3,5,7,11,13,17,19,23,"
     ]
    }
   ],
   "source": [
    "#display the prime number between 1 to N\n",
    "N = int(input(\"Enter the number: \"))\n",
    "for num in range(1, N+1):\n",
    "    if num>1:\n",
    "        for i in range(2, num):\n",
    "            if num%i==0:\n",
    "                break\n",
    "        else:\n",
    "            print(num, end = \",\")"
   ]
  },
  {
   "cell_type": "code",
   "execution_count": 7,
   "id": "e0e5896e",
   "metadata": {},
   "outputs": [
    {
     "name": "stdout",
     "output_type": "stream",
     "text": [
      "Prime numbers between 1 and 50 are:\n",
      "2, 3, 5, 7, 11, 13, 17, 19, 23, 29, 31, 37, 41, 43, 47\n"
     ]
    }
   ],
   "source": [
    "# Display the prime numbers between 1 and N, separated by commas\n",
    "N = int(input(\"Enter the number: \"))\n",
    "prime_list = []\n",
    "\n",
    "for num in range(1, N + 1):\n",
    "    if num > 1:\n",
    "        for i in range(2, num):\n",
    "            if num % i == 0:\n",
    "                break\n",
    "        else:\n",
    "            prime_list.append(str(num))  # Store as string for joining\n",
    "\n",
    "print(f\"Prime numbers between 1 and {N} are:\")\n",
    "print(\", \".join(prime_list))\n"
   ]
  },
  {
   "cell_type": "code",
   "execution_count": 9,
   "id": "27889008",
   "metadata": {},
   "outputs": [
    {
     "name": "stdout",
     "output_type": "stream",
     "text": [
      "As a list: ['2', '3', '5', '7', '11', '13', '17', '19', '23', '29', '31', '37', '41', '43', '47']\n",
      "As a comma-separated string: 2, 3, 5, 7, 11, 13, 17, 19, 23, 29, 31, 37, 41, 43, 47\n"
     ]
    }
   ],
   "source": [
    "#Store the primes in a list\n",
    "N = int(input(\"Enter the number: \"))\n",
    "prime_list = []\n",
    "\n",
    "for num in range(1, N + 1):\n",
    "    if num > 1:\n",
    "        for i in range(2, num):\n",
    "            if num % i == 0:\n",
    "                break\n",
    "        else:\n",
    "            prime_list.append(str(num))  # Store as string\n",
    "\n",
    "print(\"As a list:\", prime_list)\n",
    "print(\"As a comma-separated string:\", \", \".join(prime_list))\n"
   ]
  },
  {
   "cell_type": "code",
   "execution_count": 10,
   "id": "af9207f4",
   "metadata": {},
   "outputs": [
    {
     "name": "stdout",
     "output_type": "stream",
     "text": [
      "Prime numbers between 1 and 50 are:\n",
      "2, 3, 5, 7, 11, 13, 17, 19, 23, 29, 31, 37, 41, 43, 47\n",
      "Total prime numbers found: 15\n"
     ]
    }
   ],
   "source": [
    "#Count how many primes are found\n",
    "N = int(input(\"Enter the number: \"))\n",
    "prime_list = []\n",
    "count = 0\n",
    "\n",
    "for num in range(1, N + 1):\n",
    "    if num > 1:\n",
    "        for i in range(2, num):\n",
    "            if num % i == 0:\n",
    "                break\n",
    "        else:\n",
    "            prime_list.append(str(num))\n",
    "            count += 1  # Increase the count when a prime is found\n",
    "\n",
    "print(f\"Prime numbers between 1 and {N} are:\")\n",
    "print(\", \".join(prime_list))\n",
    "print(f\"Total prime numbers found: {count}\")\n"
   ]
  },
  {
   "cell_type": "code",
   "execution_count": null,
   "id": "5c7b259a",
   "metadata": {},
   "outputs": [],
   "source": []
  }
 ],
 "metadata": {
  "kernelspec": {
   "display_name": "Python 3",
   "language": "python",
   "name": "python3"
  },
  "language_info": {
   "codemirror_mode": {
    "name": "ipython",
    "version": 3
   },
   "file_extension": ".py",
   "mimetype": "text/x-python",
   "name": "python",
   "nbconvert_exporter": "python",
   "pygments_lexer": "ipython3",
   "version": "3.12.0"
  }
 },
 "nbformat": 4,
 "nbformat_minor": 5
}
