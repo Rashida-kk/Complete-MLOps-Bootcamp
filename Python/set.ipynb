{
 "cells": [
  {
   "cell_type": "markdown",
   "id": "6bcb0abd",
   "metadata": {},
   "source": [
    "What is a Set in Python?\n",
    "A set is an unordered collection of unique items.\n",
    "\n",
    "It is defined using curly braces {} or the set() function."
   ]
  },
  {
   "cell_type": "code",
   "execution_count": null,
   "id": "db61fa37",
   "metadata": {},
   "outputs": [],
   "source": [
    "#Creating a Set\n",
    "my_set = {1, 2, 3, 4, 5}\n",
    "print(my_set)  # Output: {1, 2, 3, 4, 5}\n",
    "\n",
    "# Duplicates are automatically removed\n",
    "my_set = {1, 2, 2, 3, 4}\n",
    "print(my_set)  # Output: {1, 2, 3, 4}\n"
   ]
  },
  {
   "cell_type": "code",
   "execution_count": null,
   "id": "27190d81",
   "metadata": {},
   "outputs": [],
   "source": [
    "# Adding and Removing Elements\n",
    "my_set = {1, 2, 3}\n",
    "my_set.add(4)        # Add an element\n",
    "my_set.remove(2)     # Remove an element (raises error if not found)\n",
    "my_set.discard(10)   # Remove safely (no error if not found)\n",
    "print(my_set)        # Output: {1, 3, 4}\n"
   ]
  },
  {
   "cell_type": "code",
   "execution_count": null,
   "id": "ca4da93a",
   "metadata": {},
   "outputs": [],
   "source": [
    "#Set Operations\n",
    "set1 = {1, 2, 3}\n",
    "set2 = {3, 4, 5}\n",
    "\n",
    "print(set1 | set2)   # Union: {1, 2, 3, 4, 5}\n",
    "print(set1 & set2)   # Intersection: {3}\n",
    "print(set1 - set2)   # Difference: {1, 2}\n",
    "print(set1 ^ set2)   # Symmetric Difference: {1, 2, 4, 5}\n"
   ]
  },
  {
   "cell_type": "code",
   "execution_count": 1,
   "id": "0102b7ff",
   "metadata": {},
   "outputs": [
    {
     "name": "stdout",
     "output_type": "stream",
     "text": [
      "True\n",
      "False\n"
     ]
    }
   ],
   "source": [
    "#set membership test\n",
    "my_set = {1,2,3,4,5}\n",
    "print(3 in my_set)\n",
    "print(8 in my_set)"
   ]
  },
  {
   "cell_type": "code",
   "execution_count": null,
   "id": "8a96c45b",
   "metadata": {},
   "outputs": [],
   "source": []
  }
 ],
 "metadata": {
  "kernelspec": {
   "display_name": "Python 3",
   "language": "python",
   "name": "python3"
  },
  "language_info": {
   "codemirror_mode": {
    "name": "ipython",
    "version": 3
   },
   "file_extension": ".py",
   "mimetype": "text/x-python",
   "name": "python",
   "nbconvert_exporter": "python",
   "pygments_lexer": "ipython3",
   "version": "3.12.0"
  }
 },
 "nbformat": 4,
 "nbformat_minor": 5
}
