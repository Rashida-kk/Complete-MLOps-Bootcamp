{
  "nbformat": 4,
  "nbformat_minor": 0,
  "metadata": {
    "colab": {
      "provenance": []
    },
    "kernelspec": {
      "name": "python3",
      "display_name": "Python 3"
    },
    "language_info": {
      "name": "python"
    }
  },
  "cells": [
    {
      "cell_type": "code",
      "execution_count": 2,
      "metadata": {
        "colab": {
          "base_uri": "https://localhost:8080/"
        },
        "id": "-N_Tkal-HqzG",
        "outputId": "05b13b3c-2daf-420f-82ad-49ea7ed83ab4"
      },
      "outputs": [
        {
          "output_type": "stream",
          "name": "stdout",
          "text": [
            "Enter your age: 31\n",
            "Are you a student? (yes/no): yes\n",
            "Ticket Price:  $18\n"
          ]
        }
      ],
      "source": [
        "#determine the ticket price based on age and whether the person is a student\n",
        "#ticket pricing based on age and student status\n",
        "\n",
        "age = int(input(\"Enter your age: \"))\n",
        "is_student = input(\"Are you a student? (yes/no): \").lower()\n",
        "\n",
        "if age < 5:\n",
        "    ticket_price = \"Free\"\n",
        "elif age >= 5 and age <= 12:\n",
        "    ticket_price = \"$10\"\n",
        "elif age <= 17:\n",
        "    if is_student == \"yes\":\n",
        "        ticket_price = \"$12\"\n",
        "    else:\n",
        "        ticket_price = \"$15\"\n",
        "elif age <= 64:\n",
        "   if is_student ==\"yes\":\n",
        "     ticket_price = \"$18\"\n",
        "   else:\n",
        "     ticket_price = \"$25\"\n",
        "else:\n",
        "  ticket_price = \"$20\"\n",
        "print(\"Ticket Price: \", ticket_price)\n",
        "\n"
      ]
    },
    {
      "cell_type": "code",
      "source": [],
      "metadata": {
        "id": "LEf9WJDcaUwB"
      },
      "execution_count": null,
      "outputs": []
    }
  ]
}