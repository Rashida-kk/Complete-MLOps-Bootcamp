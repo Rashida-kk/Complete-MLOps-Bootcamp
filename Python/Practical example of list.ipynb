{
 "cells": [
  {
   "cell_type": "markdown",
   "id": "c04bbf1d",
   "metadata": {},
   "source": [
    "##Example 1: Manage To Do List\n",
    "create a To Do List to keep track of task"
   ]
  },
  {
   "cell_type": "code",
   "execution_count": null,
   "id": "0aae23a6",
   "metadata": {},
   "outputs": [],
   "source": [
    "To_Do_List = [\"Learn Python\", \"Practice loops\", \"Read book\", \"Do laundry\"]\n",
    "\n",
    "#adding task\n",
    "To_Do_List.append(\"Buy yarn\")\n"
   ]
  },
  {
   "cell_type": "markdown",
   "id": "dcece0d1",
   "metadata": {},
   "source": [
    "Example 2: Organizing students grade\n",
    "creat a list to store and calculate average grades for students"
   ]
  },
  {
   "cell_type": "code",
   "execution_count": null,
   "id": "27cdd396",
   "metadata": {},
   "outputs": [],
   "source": [
    "#organizing students grade\n",
    "grades = []"
   ]
  },
  {
   "cell_type": "markdown",
   "id": "b53402dd",
   "metadata": {},
   "source": [
    "Example 3: Managing an inventory\n",
    "use a list to inventory items in store"
   ]
  },
  {
   "cell_type": "code",
   "execution_count": null,
   "id": "c32f3cac",
   "metadata": {},
   "outputs": [],
   "source": [
    "#managing an inventory\n",
    "inventory = [\"apple\",\"banana\"]"
   ]
  },
  {
   "cell_type": "markdown",
   "id": "09fdbc2f",
   "metadata": {},
   "source": [
    "Example 4: collecting user feedback\n",
    "use a list to collect and analyze user feedback"
   ]
  },
  {
   "cell_type": "code",
   "execution_count": null,
   "id": "c7f44bd2",
   "metadata": {},
   "outputs": [],
   "source": [
    "feedback_list = []\n",
    "\n",
    "while True:\n",
    "    feedback = input(\"Enter your feedback (or type 'done' to finish): \")\n",
    "    if feedback.lower() == 'done':\n",
    "        break\n",
    "    feedback_list.append(feedback)\n",
    "\n",
    "print(\"\\nThank you! Here's all the feedback we received:\")\n",
    "for fb in feedback_list:\n",
    "    print(\"-\", fb)\n"
   ]
  },
  {
   "cell_type": "code",
   "execution_count": null,
   "id": "c35729b8",
   "metadata": {},
   "outputs": [],
   "source": [
    "#like word count & positive words\n",
    "positive_words = [\"good\", \"great\", \"nice\", \"excellent\", \"love\", \"beautiful\", \"perfect\"]\n",
    "positive_count = 0\n",
    "\n",
    "print(\"\\nFeedback Analysis:\")\n",
    "for fb in feedback_list:\n",
    "    word_list = fb.lower().split()\n",
    "    for word in word_list:\n",
    "        if word in positive_words:\n",
    "            positive_count += 1\n",
    "\n",
    "print(f\"Total feedback entries: {len(feedback_list)}\")\n",
    "print(f\"Total positive words detected: {positive_count}\")\n"
   ]
  }
 ],
 "metadata": {
  "kernelspec": {
   "display_name": "Python 3",
   "language": "python",
   "name": "python3"
  },
  "language_info": {
   "name": "python",
   "version": "3.12.0"
  }
 },
 "nbformat": 4,
 "nbformat_minor": 5
}
